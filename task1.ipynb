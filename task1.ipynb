{
 "cells": [
  {
   "cell_type": "code",
   "execution_count": 6,
   "metadata": {},
   "outputs": [],
   "source": [
    "import pandas as pd\n",
    "from textblob import TextBlob"
   ]
  },
  {
   "cell_type": "code",
   "execution_count": 9,
   "metadata": {},
   "outputs": [
    {
     "name": "stdout",
     "output_type": "stream",
     "text": [
      "                                              review sentiment\n",
      "0  One of the other reviewers has mentioned that ...  positive\n",
      "1  A wonderful little production. <br /><br />The...  positive\n",
      "2  I thought this was a wonderful way to spend ti...  positive\n",
      "3  Basically there's a family where a little boy ...  negative\n",
      "4  Petter Mattei's \"Love in the Time of Money\" is...  positive\n"
     ]
    }
   ],
   "source": [
    "imdb_data = pd.read_csv('IMDB Dataset.csv')\n",
    "\n",
    "print(imdb_data.head())"
   ]
  },
  {
   "cell_type": "code",
   "execution_count": 24,
   "metadata": {},
   "outputs": [],
   "source": [
    "sentiment_data = []"
   ]
  },
  {
   "cell_type": "code",
   "execution_count": 25,
   "metadata": {},
   "outputs": [
    {
     "name": "stdout",
     "output_type": "stream",
     "text": [
      "                                              Review  Sentiment Score  \\\n",
      "0  One of the other reviewers has mentioned that ...         0.023433   \n",
      "1  A wonderful little production. <br /><br />The...         0.109722   \n",
      "2  I thought this was a wonderful way to spend ti...         0.354008   \n",
      "3  Basically there's a family where a little boy ...        -0.057813   \n",
      "4  Petter Mattei's \"Love in the Time of Money\" is...         0.217952   \n",
      "\n",
      "  Sentiment Label  \n",
      "0        Positive  \n",
      "1        Positive  \n",
      "2        Positive  \n",
      "3        Negative  \n",
      "4        Positive  \n"
     ]
    }
   ],
   "source": [
    "for index, row in imdb_data.iterrows():\n",
    "    review = row['review']\n",
    "    blob = TextBlob(review)\n",
    "    sentiment_score = blob.sentiment.polarity\n",
    "\n",
    "    # Determine sentiment label\n",
    "    if sentiment_score > 0:\n",
    "        sentiment_label = 'positive'\n",
    "    elif sentiment_score < 0:\n",
    "        sentiment_label = 'negative'\n",
    "    else:\n",
    "        sentiment_label = 'neutral'\n",
    "\n",
    "    # Append sentiment analysis results to the list\n",
    "    sentiment_data.append({'Review': review, 'Sentiment Score': sentiment_score, 'Sentiment Label': sentiment_label})\n",
    "\n",
    "# Create a DataFrame from the list of sentiment analysis results\n",
    "result = pd.DataFrame(sentiment_data)\n",
    "\n",
    "print(result.head())"
   ]
  },
  {
   "cell_type": "code",
   "execution_count": 27,
   "metadata": {},
   "outputs": [],
   "source": [
    "result['Sentiment Label'] = result['Sentiment Label'].str.lower()\n",
    "\n",
    "result.to_csv('result.csv', index=False)"
   ]
  },
  {
   "cell_type": "code",
   "execution_count": 28,
   "metadata": {},
   "outputs": [
    {
     "name": "stdout",
     "output_type": "stream",
     "text": [
      "0        positive\n",
      "1        positive\n",
      "2        positive\n",
      "3        negative\n",
      "4        positive\n",
      "           ...   \n",
      "49995    positive\n",
      "49996    negative\n",
      "49997    positive\n",
      "49998    negative\n",
      "49999    positive\n",
      "Name: Sentiment Label, Length: 50000, dtype: object\n"
     ]
    }
   ],
   "source": [
    "print(result['Sentiment Label'])"
   ]
  },
  {
   "cell_type": "code",
   "execution_count": 20,
   "metadata": {},
   "outputs": [
    {
     "name": "stdout",
     "output_type": "stream",
     "text": [
      "0        positive\n",
      "1        positive\n",
      "2        positive\n",
      "3        negative\n",
      "4        positive\n",
      "           ...   \n",
      "49995    positive\n",
      "49996    negative\n",
      "49997    negative\n",
      "49998    negative\n",
      "49999    negative\n",
      "Name: sentiment, Length: 50000, dtype: object\n"
     ]
    }
   ],
   "source": [
    "print (imdb_data['sentiment'])"
   ]
  },
  {
   "cell_type": "code",
   "execution_count": 29,
   "metadata": {},
   "outputs": [
    {
     "name": "stdout",
     "output_type": "stream",
     "text": [
      "Length of IMDb dataset: 50000\n",
      "Length of sentiment analysis results DataFrame: 50000\n"
     ]
    }
   ],
   "source": [
    "print(\"Length of IMDb dataset:\", len(imdb_data))\n",
    "print(\"Length of sentiment analysis results DataFrame:\", len(result))"
   ]
  },
  {
   "cell_type": "code",
   "execution_count": 30,
   "metadata": {},
   "outputs": [
    {
     "name": "stdout",
     "output_type": "stream",
     "text": [
      "Accuracy: 68.81 %\n"
     ]
    }
   ],
   "source": [
    "imdb_data.reset_index(drop=True, inplace=True)\n",
    "\n",
    "# Calculate accuracy\n",
    "accuracy = (result['Sentiment Label'] == imdb_data['sentiment'].str.lower()).mean() * 100\n",
    "\n",
    "# Print accuracy\n",
    "print(\"Accuracy:\", accuracy, \"%\")"
   ]
  },
  {
   "cell_type": "code",
   "execution_count": 34,
   "metadata": {},
   "outputs": [],
   "source": [
    "import spacy\n",
    "from spacy import displacy\n",
    "from spacy.lang.en.stop_words import STOP_WORDS"
   ]
  },
  {
   "cell_type": "code",
   "execution_count": 35,
   "metadata": {},
   "outputs": [],
   "source": [
    "nlp = spacy.load(\"en_core_web_sm\")"
   ]
  }
 ],
 "metadata": {
  "kernelspec": {
   "display_name": "Python 3",
   "language": "python",
   "name": "python3"
  },
  "language_info": {
   "codemirror_mode": {
    "name": "ipython",
    "version": 3
   },
   "file_extension": ".py",
   "mimetype": "text/x-python",
   "name": "python",
   "nbconvert_exporter": "python",
   "pygments_lexer": "ipython3",
   "version": "3.9.6"
  }
 },
 "nbformat": 4,
 "nbformat_minor": 2
}
