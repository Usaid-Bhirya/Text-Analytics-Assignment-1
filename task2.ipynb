{
 "cells": [
  {
   "cell_type": "code",
   "execution_count": 1,
   "metadata": {},
   "outputs": [],
   "source": [
    "import pandas as pd\n",
    "import nltk\n",
    "from sklearn.model_selection import train_test_split\n",
    "from sklearn.feature_extraction.text import TfidfVectorizer, CountVectorizer\n",
    "from sklearn.naive_bayes import MultinomialNB\n",
    "from sklearn.ensemble import RandomForestClassifier\n",
    "from sklearn.neighbors import KNeighborsClassifier\n",
    "from sklearn.metrics import accuracy_score, classification_report\n",
    "from nltk.corpus import stopwords\n",
    "from nltk.tokenize import word_tokenize\n",
    "from nltk.stem import WordNetLemmatizer\n",
    "from sklearn.linear_model import LogisticRegression\n",
    "from sklearn.svm import SVC"
   ]
  },
  {
   "cell_type": "code",
   "execution_count": 2,
   "metadata": {},
   "outputs": [
    {
     "name": "stderr",
     "output_type": "stream",
     "text": [
      "[nltk_data] Downloading package punkt to\n",
      "[nltk_data]     C:\\Users\\Usaid\\AppData\\Roaming\\nltk_data...\n",
      "[nltk_data]   Package punkt is already up-to-date!\n",
      "[nltk_data] Downloading package wordnet to\n",
      "[nltk_data]     C:\\Users\\Usaid\\AppData\\Roaming\\nltk_data...\n",
      "[nltk_data]   Package wordnet is already up-to-date!\n",
      "[nltk_data] Downloading package stopwords to\n",
      "[nltk_data]     C:\\Users\\Usaid\\AppData\\Roaming\\nltk_data...\n",
      "[nltk_data]   Package stopwords is already up-to-date!\n",
      "[nltk_data] Downloading package averaged_perceptron_tagger to\n",
      "[nltk_data]     C:\\Users\\Usaid\\AppData\\Roaming\\nltk_data...\n",
      "[nltk_data]   Package averaged_perceptron_tagger is already up-to-\n",
      "[nltk_data]       date!\n"
     ]
    },
    {
     "data": {
      "text/plain": [
       "True"
      ]
     },
     "execution_count": 2,
     "metadata": {},
     "output_type": "execute_result"
    }
   ],
   "source": [
    "nltk.download('punkt')\n",
    "nltk.download('wordnet')\n",
    "nltk.download('stopwords')\n",
    "nltk.download('averaged_perceptron_tagger')"
   ]
  },
  {
   "cell_type": "code",
   "execution_count": 3,
   "metadata": {},
   "outputs": [],
   "source": [
    "imdb_data = pd.read_csv('train.csv')\n",
    "imdb_data_test = pd.read_csv('test.csv')"
   ]
  },
  {
   "cell_type": "code",
   "execution_count": 4,
   "metadata": {},
   "outputs": [],
   "source": [
    "def preprocess_text(text):\n",
    "    # Tokenization\n",
    "    tokens = word_tokenize(text)\n",
    "    # Remove stopwords\n",
    "    stop_words = set(stopwords.words('english'))\n",
    "    tokens = [word for word in tokens if word.lower() not in stop_words]\n",
    "    # Lemmatization\n",
    "    lemmatizer = WordNetLemmatizer()\n",
    "    tokens = [lemmatizer.lemmatize(word) for word in tokens]\n",
    "    # Join tokens back into text\n",
    "    processed_text = ' '.join(tokens)\n",
    "    return processed_text"
   ]
  },
  {
   "cell_type": "code",
   "execution_count": 5,
   "metadata": {},
   "outputs": [],
   "source": [
    "imdb_data['processed_review'] = imdb_data['review'].apply(preprocess_text)\n",
    "imdb_data_test['processed_review'] = imdb_data_test['review'].apply(preprocess_text)"
   ]
  },
  {
   "cell_type": "code",
   "execution_count": 6,
   "metadata": {},
   "outputs": [],
   "source": [
    "x_train = imdb_data['processed_review']\n",
    "y_train = imdb_data['sentiment']\n",
    "\n",
    "x_test = imdb_data_test['processed_review']\n",
    "y_test = imdb_data_test['sentiment']"
   ]
  },
  {
   "cell_type": "code",
   "execution_count": 7,
   "metadata": {},
   "outputs": [],
   "source": [
    "tfidf_vectorizer = TfidfVectorizer(ngram_range=(1, 3), max_features=10000)\n",
    "X_train_tfidf = tfidf_vectorizer.fit_transform(x_train)\n",
    "X_test_tfidf = tfidf_vectorizer.transform(x_test)"
   ]
  },
  {
   "cell_type": "code",
   "execution_count": 8,
   "metadata": {},
   "outputs": [],
   "source": [
    "count_vectorizer = CountVectorizer(ngram_range=(1, 3), max_features=10000)\n",
    "X_train_count = count_vectorizer.fit_transform(x_train)\n",
    "X_test_count = count_vectorizer.transform(x_test)"
   ]
  },
  {
   "cell_type": "code",
   "execution_count": 9,
   "metadata": {},
   "outputs": [],
   "source": [
    "y_train_tfidf = tfidf_vectorizer.transform(y_train)\n",
    "y_test_tfidf = tfidf_vectorizer.transform(y_test)"
   ]
  },
  {
   "cell_type": "code",
   "execution_count": 10,
   "metadata": {},
   "outputs": [],
   "source": [
    "from sklearn.ensemble import GradientBoostingClassifier\n",
    "\n",
    "\n",
    "classifiers = {\n",
    "    \"Naive Bayes\": MultinomialNB(),\n",
    "    \"Random Forest\": RandomForestClassifier(),\n",
    "    \"k-NN\": KNeighborsClassifier(),\n",
    "    \"Gradient Boosting\": GradientBoostingClassifier()\n",
    "}"
   ]
  },
  {
   "cell_type": "code",
   "execution_count": 11,
   "metadata": {},
   "outputs": [
    {
     "name": "stdout",
     "output_type": "stream",
     "text": [
      "Training Naive Bayes...\n",
      "Naive Bayes Accuracy (TF-IDF): 0.87\n",
      "Naive Bayes Accuracy (CountVectorizer): 0.86\n",
      "Training Random Forest...\n",
      "Random Forest Accuracy (TF-IDF): 0.86\n",
      "Random Forest Accuracy (CountVectorizer): 0.85\n",
      "Training k-NN...\n",
      "k-NN Accuracy (TF-IDF): 0.73\n",
      "k-NN Accuracy (CountVectorizer): 0.59\n",
      "Training Gradient Boosting...\n",
      "Gradient Boosting Accuracy (TF-IDF): 0.81\n",
      "Gradient Boosting Accuracy (CountVectorizer): 0.81\n"
     ]
    }
   ],
   "source": [
    "for name, classifier in classifiers.items():\n",
    "    print(f\"Training {name}...\")\n",
    "    classifier.fit(X_train_tfidf, y_train)\n",
    "    y_pred = classifier.predict(X_test_tfidf)\n",
    "    accuracy = accuracy_score(y_test, y_pred)\n",
    "    print(f\"{name} Accuracy (TF-IDF): {accuracy:.2f}\")\n",
    "\n",
    "    # Also evaluate with CountVectorizer\n",
    "    classifier.fit(X_train_count, y_train)\n",
    "    y_pred_count = classifier.predict(X_test_count)\n",
    "    accuracy_count = accuracy_score(y_test, y_pred_count)\n",
    "    print(f\"{name} Accuracy (CountVectorizer): {accuracy_count:.2f}\")\n"
   ]
  },
  {
   "cell_type": "code",
   "execution_count": 12,
   "metadata": {},
   "outputs": [],
   "source": [
    "from sklearn.naive_bayes import BernoulliNB"
   ]
  },
  {
   "cell_type": "code",
   "execution_count": 13,
   "metadata": {},
   "outputs": [
    {
     "name": "stdout",
     "output_type": "stream",
     "text": [
      "Naive Bayes Accuracy (TF-IDF): 0.87\n",
      "Naive Bayes Accuracy (CountVectorizer): 0.87\n"
     ]
    }
   ],
   "source": [
    "naiveB = BernoulliNB(alpha=15)\n",
    "\n",
    "naiveB.fit(X_train_tfidf, y_train)\n",
    "y_pred = naiveB.predict(X_test_tfidf)\n",
    "accuracy = accuracy_score(y_test, y_pred)\n",
    "\n",
    "print(f\"Naive Bayes Accuracy (TF-IDF): {accuracy:.2f}\")\n",
    "\n",
    "naiveB.fit(X_train_count, y_train)\n",
    "y_pred_count = naiveB.predict(X_test_count)\n",
    "accuracy_count = accuracy_score(y_test, y_pred_count)\n",
    "\n",
    "print(f\"Naive Bayes Accuracy (CountVectorizer): {accuracy_count:.2f}\")"
   ]
  },
  {
   "cell_type": "code",
   "execution_count": 14,
   "metadata": {},
   "outputs": [
    {
     "name": "stdout",
     "output_type": "stream",
     "text": [
      "Logistic Regression Accuracy (TF-IDF): 0.89\n",
      "Logistic Regression Accuracy (CountVectorizer): 0.87\n"
     ]
    }
   ],
   "source": [
    "lr = LogisticRegression(max_iter=1000)\n",
    "\n",
    "lr.fit(X_train_tfidf, y_train)\n",
    "y_pred = lr.predict(X_test_tfidf)\n",
    "accuracy = accuracy_score(y_test, y_pred)\n",
    "\n",
    "print(f\"Logistic Regression Accuracy (TF-IDF): {accuracy:.2f}\")\n",
    "\n",
    "lr.fit(X_train_count, y_train)\n",
    "y_pred_count = lr.predict(X_test_count)\n",
    "accuracy_count = accuracy_score(y_test, y_pred_count)\n",
    "\n",
    "print(f\"Logistic Regression Accuracy (CountVectorizer): {accuracy_count:.2f}\")"
   ]
  },
  {
   "cell_type": "code",
   "execution_count": 16,
   "metadata": {},
   "outputs": [
    {
     "name": "stdout",
     "output_type": "stream",
     "text": [
      "SVM Accuracy (TF-IDF): 0.90\n",
      "SVM Accuracy (CountVectorizer): 0.88\n"
     ]
    }
   ],
   "source": [
    "svm = SVC()\n",
    "\n",
    "svm.fit(X_train_tfidf, y_train)\n",
    "y_pred = svm.predict(X_test_tfidf)\n",
    "accuracy = accuracy_score(y_test, y_pred)\n",
    "\n",
    "print(f\"SVM Accuracy (TF-IDF): {accuracy:.2f}\")\n",
    "\n",
    "svm.fit(X_train_count, y_train)\n",
    "y_pred_count = svm.predict(X_test_count)\n",
    "accuracy_count = accuracy_score(y_test, y_pred_count)\n",
    "\n",
    "print(f\"SVM Accuracy (CountVectorizer): {accuracy_count:.2f}\")"
   ]
  },
  {
   "cell_type": "markdown",
   "metadata": {},
   "source": [
    "### Task 3"
   ]
  },
  {
   "cell_type": "code",
   "execution_count": 10,
   "metadata": {},
   "outputs": [],
   "source": [
    "from gensim.models import Word2Vec\n",
    "import numpy as np"
   ]
  },
  {
   "cell_type": "code",
   "execution_count": 11,
   "metadata": {},
   "outputs": [],
   "source": [
    "tokenized_data = [text.split() for text in x_train]\n",
    "\n",
    "# Train Word2Vec model\n",
    "word2vec_model = Word2Vec(sentences=tokenized_data, vector_size=100, window=5, min_count=1, workers=4)"
   ]
  },
  {
   "cell_type": "code",
   "execution_count": 12,
   "metadata": {},
   "outputs": [],
   "source": [
    "# Function to create document vectors by averaging the word vectors\n",
    "def document_vector(word2vec_model, doc):\n",
    "    doc_vector = [word2vec_model.wv[word] for word in doc if word in word2vec_model.wv]\n",
    "    return np.mean(doc_vector, axis=0)\n",
    "\n",
    "X_train_word2vec = [document_vector(word2vec_model, doc) for doc in tokenized_data]\n",
    "\n",
    "# Repeat the same process for test data\n",
    "tokenized_data_test = [text.split() for text in x_test]\n",
    "X_test_word2vec = [document_vector(word2vec_model, doc) for doc in tokenized_data_test]"
   ]
  },
  {
   "cell_type": "code",
   "execution_count": 14,
   "metadata": {},
   "outputs": [
    {
     "name": "stdout",
     "output_type": "stream",
     "text": [
      "Training Random Forest...\n",
      "Accuracy: 0.8032\n",
      "\n",
      "Training K-NN...\n",
      "Accuracy: 0.7460\n",
      "\n"
     ]
    }
   ],
   "source": [
    "models = {\n",
    "    \"Random Forest\": RandomForestClassifier(n_estimators=100),\n",
    "    \"K-NN\": KNeighborsClassifier(n_neighbors=5)\n",
    "}\n",
    "\n",
    "# Training and Evaluation\n",
    "for name, model in models.items():\n",
    "    print(f\"Training {name}...\")\n",
    "    model.fit(X_train_word2vec, y_train)\n",
    "    y_pred = model.predict(X_test_word2vec)\n",
    "    acc = accuracy_score(y_test, y_pred)\n",
    "    print(f\"Accuracy: {acc:.4f}\")\n",
    "    print()"
   ]
  },
  {
   "cell_type": "code",
   "execution_count": 15,
   "metadata": {},
   "outputs": [
    {
     "name": "stdout",
     "output_type": "stream",
     "text": [
      "Logistic Regression Accuracy (Word2Vec): 0.84\n"
     ]
    }
   ],
   "source": [
    "lr = LogisticRegression(max_iter=1000)\n",
    "\n",
    "lr.fit(X_train_word2vec, y_train)\n",
    "y_pred = lr.predict(X_test_word2vec)\n",
    "accuracy = accuracy_score(y_test, y_pred)\n",
    "\n",
    "print(f\"Logistic Regression Accuracy (Word2Vec): {accuracy:.2f}\")"
   ]
  },
  {
   "cell_type": "code",
   "execution_count": 17,
   "metadata": {},
   "outputs": [
    {
     "name": "stdout",
     "output_type": "stream",
     "text": [
      "SVM Accuracy (Word2Vec): 0.84\n"
     ]
    }
   ],
   "source": [
    "svm = SVC()\n",
    "\n",
    "svm.fit(X_train_word2vec, y_train)\n",
    "y_pred = svm.predict(X_test_word2vec)\n",
    "accuracy = accuracy_score(y_test, y_pred)\n",
    "\n",
    "print(f\"SVM Accuracy (Word2Vec): {accuracy:.2f}\")"
   ]
  }
 ],
 "metadata": {
  "kernelspec": {
   "display_name": "Python 3",
   "language": "python",
   "name": "python3"
  },
  "language_info": {
   "codemirror_mode": {
    "name": "ipython",
    "version": 3
   },
   "file_extension": ".py",
   "mimetype": "text/x-python",
   "name": "python",
   "nbconvert_exporter": "python",
   "pygments_lexer": "ipython3",
   "version": "3.9.6"
  }
 },
 "nbformat": 4,
 "nbformat_minor": 2
}
